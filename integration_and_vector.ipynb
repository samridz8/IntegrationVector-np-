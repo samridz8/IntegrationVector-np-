{
  "nbformat": 4,
  "nbformat_minor": 0,
  "metadata": {
    "colab": {
      "provenance": [],
      "authorship_tag": "ABX9TyPNZz9O7T23NU/t5JybmvdH",
      "include_colab_link": true
    },
    "kernelspec": {
      "name": "python3",
      "display_name": "Python 3"
    },
    "language_info": {
      "name": "python"
    }
  },
  "cells": [
    {
      "cell_type": "markdown",
      "metadata": {
        "id": "view-in-github",
        "colab_type": "text"
      },
      "source": [
        "<a href=\"https://colab.research.google.com/github/samridz8/IntegrationVector-np-/blob/main/integration_and_vector.ipynb\" target=\"_parent\"><img src=\"https://colab.research.google.com/assets/colab-badge.svg\" alt=\"Open In Colab\"/></a>"
      ]
    },
    {
      "cell_type": "code",
      "execution_count": null,
      "metadata": {
        "colab": {
          "base_uri": "https://localhost:8080/"
        },
        "id": "QUA8CLvGGUhM",
        "outputId": "763e0e1b-65b6-40fa-a534-b920894ed18b"
      },
      "outputs": [
        {
          "output_type": "stream",
          "name": "stdout",
          "text": [
            "2/3\n"
          ]
        }
      ],
      "source": [
        "from sympy import *\n",
        "x,y,z =  symbols('x y z')\n",
        "w = integrate (x**2 + y**2,(y,0,1),(x,0,1))\n",
        "print (w)"
      ]
    },
    {
      "cell_type": "code",
      "source": [
        "from re import X\n",
        "from sympy import *\n",
        "x = symbols('x')\n",
        "y = symbols('y')\n",
        "z = symbols('z')\n",
        "\n",
        "w1 = integrate((x*y*z),(z,0,3-x-y),(y,0,3-x),(x,0,3))\n",
        "print(w1)\n"
      ],
      "metadata": {
        "colab": {
          "base_uri": "https://localhost:8080/"
        },
        "id": "IUdMluHyG79C",
        "outputId": "05cd2f9f-821f-409e-bbbd-477e70b0782d"
      },
      "execution_count": null,
      "outputs": [
        {
          "output_type": "stream",
          "name": "stdout",
          "text": [
            "81/80\n"
          ]
        }
      ]
    },
    {
      "cell_type": "code",
      "source": [
        "from sympy import *\n",
        "x = symbols('x')\n",
        "y = symbols('y')\n",
        "z = symbols('z')\n",
        "w3 = integrate(x**2 + y**2,y,x)\n",
        "print(w3)\n",
        "w4 = integrate(x**2 + y**2,y,x)\n",
        "print(w4)"
      ],
      "metadata": {
        "colab": {
          "base_uri": "https://localhost:8080/"
        },
        "id": "TS3h7m7rHynS",
        "outputId": "9a398002-1cb3-4160-b631-1e1092315105"
      },
      "execution_count": null,
      "outputs": [
        {
          "output_type": "stream",
          "name": "stdout",
          "text": [
            "x**3*y/3 + x*y**3/3\n",
            "x**3*y/3 + x*y**3/3\n"
          ]
        }
      ]
    },
    {
      "cell_type": "code",
      "source": [
        "from sympy import *\n",
        "x = symbols('x')\n",
        "y = symbols('y')\n",
        "a =  4\n",
        "b = 6\n",
        "w5 = 3* integrate(1,(y,0,(b/a)*sqrt(a**2 - x**2 )),(x,0,a))\n",
        "print (w5)"
      ],
      "metadata": {
        "colab": {
          "base_uri": "https://localhost:8080/"
        },
        "id": "77Bvk5ryHucK",
        "outputId": "81e7d50a-ae1c-42a3-d020-05b9bacb2a8e"
      },
      "execution_count": null,
      "outputs": [
        {
          "output_type": "stream",
          "name": "stdout",
          "text": [
            "18.0*pi\n"
          ]
        }
      ]
    },
    {
      "cell_type": "code",
      "source": [
        "from sympy import *\n",
        "r = symbols('r')\n",
        "t = symbols('t')\n",
        "a = symbols('a')\n",
        "w3 = 2*integrate(r,(r,0,a*(1+cos(t))),(t,0,pi))\n",
        "print(w3)\n"
      ],
      "metadata": {
        "colab": {
          "base_uri": "https://localhost:8080/"
        },
        "id": "DkdEPOGQJI4z",
        "outputId": "783120ac-c822-47f9-8a37-3efbe3b36aed"
      },
      "execution_count": null,
      "outputs": [
        {
          "output_type": "stream",
          "name": "stdout",
          "text": [
            "3*pi*a**2/2\n"
          ]
        }
      ]
    },
    {
      "cell_type": "code",
      "source": [
        "from sympy import *\n",
        "x = symbols('x')\n",
        "y = symbols('y')\n",
        "z = symbols('z')\n",
        "a = symbols('a')\n",
        "b = symbols('b')\n",
        "c = symbols('c')\n",
        "w2 = integrate(1,(z,0,c*(1-x/a-y/b)),(y,0,b*(1-x/a)),(x,0,a))\n",
        "print(w2)"
      ],
      "metadata": {
        "colab": {
          "base_uri": "https://localhost:8080/"
        },
        "id": "TbD_ppSwMeBT",
        "outputId": "e4c42cdd-4286-44ed-b0a5-959e0a1d17f3"
      },
      "execution_count": null,
      "outputs": [
        {
          "output_type": "stream",
          "name": "stdout",
          "text": [
            "a*b*c/6\n"
          ]
        }
      ]
    },
    {
      "cell_type": "code",
      "source": [
        "from sympy.vector import *\n",
        "from sympy import symbols\n",
        "\n",
        "N = CoordSys3D('N')\n",
        "x,y,z=symbols('x y z')\n",
        "A = N.x**2*N.y+2*N.x*N.z-4\n",
        "delop = Del()\n",
        "display(delop(A))\n",
        "gradA = gradient(A)\n",
        "print(f\"\\n Gradient of {A} is \\n\")\n",
        "display(gradA)"
      ],
      "metadata": {
        "colab": {
          "base_uri": "https://localhost:8080/",
          "height": 132
        },
        "id": "ikaPo8ZkPSLU",
        "outputId": "4fa8d322-0a7d-4505-a96d-a8c7e51261e0"
      },
      "execution_count": null,
      "outputs": [
        {
          "output_type": "display_data",
          "data": {
            "text/plain": [
              "(Derivative(N.x**2*N.y + 2*N.x*N.z - 4, N.x))*N.i + (Derivative(N.x**2*N.y + 2*N.x*N.z - 4, N.y))*N.j + (Derivative(N.x**2*N.y + 2*N.x*N.z - 4, N.z))*N.k"
            ],
            "text/latex": "$\\displaystyle \\left(\\frac{\\partial}{\\partial \\mathbf{{x}_{N}}} \\left(\\mathbf{{x}_{N}}^{2} \\mathbf{{y}_{N}} + 2 \\mathbf{{x}_{N}} \\mathbf{{z}_{N}} - 4\\right)\\right)\\mathbf{\\hat{i}_{N}} + \\left(\\frac{\\partial}{\\partial \\mathbf{{y}_{N}}} \\left(\\mathbf{{x}_{N}}^{2} \\mathbf{{y}_{N}} + 2 \\mathbf{{x}_{N}} \\mathbf{{z}_{N}} - 4\\right)\\right)\\mathbf{\\hat{j}_{N}} + \\left(\\frac{\\partial}{\\partial \\mathbf{{z}_{N}}} \\left(\\mathbf{{x}_{N}}^{2} \\mathbf{{y}_{N}} + 2 \\mathbf{{x}_{N}} \\mathbf{{z}_{N}} - 4\\right)\\right)\\mathbf{\\hat{k}_{N}}$"
          },
          "metadata": {}
        },
        {
          "output_type": "stream",
          "name": "stdout",
          "text": [
            "\n",
            " Gradient of N.x**2*N.y + 2*N.x*N.z - 4 is \n",
            "\n"
          ]
        },
        {
          "output_type": "display_data",
          "data": {
            "text/plain": [
              "(2*N.x*N.y + 2*N.z)*N.i + N.x**2*N.j + 2*N.x*N.k"
            ],
            "text/latex": "$\\displaystyle \\left(2 \\mathbf{{x}_{N}} \\mathbf{{y}_{N}} + 2 \\mathbf{{z}_{N}}\\right)\\mathbf{\\hat{i}_{N}} + \\left(\\mathbf{{x}_{N}}^{2}\\right)\\mathbf{\\hat{j}_{N}} + \\left(2 \\mathbf{{x}_{N}}\\right)\\mathbf{\\hat{k}_{N}}$"
          },
          "metadata": {}
        }
      ]
    },
    {
      "cell_type": "code",
      "source": [
        "from sympy.vector import *\n",
        "from sympy import symbols\n",
        "N = CoordSys3D('N')\n",
        "x,y,z=symbols('x y z')\n",
        "A = N.x**2*N.y*N.z*N.i+N.y**2*N.z*N.x*N.j+N.z**2*N.x*N.y*N.k\n",
        "delop = Del()\n",
        "divA = delop.dot(A)\n",
        "display(divA)\n",
        "\n",
        "print(f\"\\n Divergence of {A} is \\n\")\n",
        "display(divergence(A))"
      ],
      "metadata": {
        "colab": {
          "base_uri": "https://localhost:8080/",
          "height": 128
        },
        "id": "65iybNdhSLRt",
        "outputId": "75d9d2db-3df8-41ba-b4c9-8ee156846d81"
      },
      "execution_count": null,
      "outputs": [
        {
          "output_type": "display_data",
          "data": {
            "text/plain": [
              "Derivative(N.x*N.y*N.z**2, N.z) + Derivative(N.x*N.y**2*N.z, N.y) + Derivative(N.x**2*N.y*N.z, N.x)"
            ],
            "text/latex": "$\\displaystyle \\frac{\\partial}{\\partial \\mathbf{{z}_{N}}} \\mathbf{{x}_{N}} \\mathbf{{y}_{N}} \\mathbf{{z}_{N}}^{2} + \\frac{\\partial}{\\partial \\mathbf{{y}_{N}}} \\mathbf{{x}_{N}} \\mathbf{{y}_{N}}^{2} \\mathbf{{z}_{N}} + \\frac{\\partial}{\\partial \\mathbf{{x}_{N}}} \\mathbf{{x}_{N}}^{2} \\mathbf{{y}_{N}} \\mathbf{{z}_{N}}$"
          },
          "metadata": {}
        },
        {
          "output_type": "stream",
          "name": "stdout",
          "text": [
            "\n",
            " Divergence of N.x**2*N.y*N.z*N.i + N.x*N.y**2*N.z*N.j + N.x*N.y*N.z**2*N.k is \n",
            "\n"
          ]
        },
        {
          "output_type": "display_data",
          "data": {
            "text/plain": [
              "6*N.x*N.y*N.z"
            ],
            "text/latex": "$\\displaystyle 6 \\mathbf{{x}_{N}} \\mathbf{{y}_{N}} \\mathbf{{z}_{N}}$"
          },
          "metadata": {}
        }
      ]
    },
    {
      "cell_type": "code",
      "source": [
        "from sympy.vector import *\n",
        "from sympy import symbols\n",
        "N = CoordSys3D('N')\n",
        "x,y,z=symbols('x y z')\n",
        "A = N.x**2*N.y*N.z*N.i+N.y**2*N.z*N.x*N.j+N.z**2*N.x*N.y*N.k\n",
        "delop = Del()\n",
        "curlA = delop.cross(A)\n",
        "display(curlA)\n",
        "\n",
        "print(f\"\\n Curl of {A} is \\n\")\n",
        "display(curl(A))"
      ],
      "metadata": {
        "colab": {
          "base_uri": "https://localhost:8080/",
          "height": 132
        },
        "id": "VW5_I4DqU7uc",
        "outputId": "f2ca5cbe-4e1b-4f62-cb32-e4414facd92f"
      },
      "execution_count": null,
      "outputs": [
        {
          "output_type": "display_data",
          "data": {
            "text/plain": [
              "(Derivative(N.x*N.y*N.z**2, N.y) - Derivative(N.x*N.y**2*N.z, N.z))*N.i + (-Derivative(N.x*N.y*N.z**2, N.x) + Derivative(N.x**2*N.y*N.z, N.z))*N.j + (Derivative(N.x*N.y**2*N.z, N.x) - Derivative(N.x**2*N.y*N.z, N.y))*N.k"
            ],
            "text/latex": "$\\displaystyle \\left(\\frac{\\partial}{\\partial \\mathbf{{y}_{N}}} \\mathbf{{x}_{N}} \\mathbf{{y}_{N}} \\mathbf{{z}_{N}}^{2} - \\frac{\\partial}{\\partial \\mathbf{{z}_{N}}} \\mathbf{{x}_{N}} \\mathbf{{y}_{N}}^{2} \\mathbf{{z}_{N}}\\right)\\mathbf{\\hat{i}_{N}} + \\left(- \\frac{\\partial}{\\partial \\mathbf{{x}_{N}}} \\mathbf{{x}_{N}} \\mathbf{{y}_{N}} \\mathbf{{z}_{N}}^{2} + \\frac{\\partial}{\\partial \\mathbf{{z}_{N}}} \\mathbf{{x}_{N}}^{2} \\mathbf{{y}_{N}} \\mathbf{{z}_{N}}\\right)\\mathbf{\\hat{j}_{N}} + \\left(\\frac{\\partial}{\\partial \\mathbf{{x}_{N}}} \\mathbf{{x}_{N}} \\mathbf{{y}_{N}}^{2} \\mathbf{{z}_{N}} - \\frac{\\partial}{\\partial \\mathbf{{y}_{N}}} \\mathbf{{x}_{N}}^{2} \\mathbf{{y}_{N}} \\mathbf{{z}_{N}}\\right)\\mathbf{\\hat{k}_{N}}$"
          },
          "metadata": {}
        },
        {
          "output_type": "stream",
          "name": "stdout",
          "text": [
            "\n",
            " Curl of N.x**2*N.y*N.z*N.i + N.x*N.y**2*N.z*N.j + N.x*N.y*N.z**2*N.k is \n",
            "\n"
          ]
        },
        {
          "output_type": "display_data",
          "data": {
            "text/plain": [
              "(-N.x*N.y**2 + N.x*N.z**2)*N.i + (N.x**2*N.y - N.y*N.z**2)*N.j + (-N.x**2*N.z + N.y**2*N.z)*N.k"
            ],
            "text/latex": "$\\displaystyle \\left(- \\mathbf{{x}_{N}} \\mathbf{{y}_{N}}^{2} + \\mathbf{{x}_{N}} \\mathbf{{z}_{N}}^{2}\\right)\\mathbf{\\hat{i}_{N}} + \\left(\\mathbf{{x}_{N}}^{2} \\mathbf{{y}_{N}} - \\mathbf{{y}_{N}} \\mathbf{{z}_{N}}^{2}\\right)\\mathbf{\\hat{j}_{N}} + \\left(- \\mathbf{{x}_{N}}^{2} \\mathbf{{z}_{N}} + \\mathbf{{y}_{N}}^{2} \\mathbf{{z}_{N}}\\right)\\mathbf{\\hat{k}_{N}}$"
          },
          "metadata": {}
        }
      ]
    },
    {
      "cell_type": "code",
      "source": [
        "from sympy.physics.vector import *\n",
        "from sympy import var,pprint\n",
        "var = ('x y z')\n",
        "v = ReferenceFrame('v')\n",
        "F = v[0]**2*v[1]*v[2]\n",
        "G = gradient(F,v)\n",
        "F = F.subs([(v[0],x),(v[1],y),(v[2],z)])\n",
        "print(\"Given scalar function f=\")\n",
        "display(F)\n",
        "G = G.subs([(v[0],x),(v[1],y),(v[2],z)])\n",
        "print(\"\\n Gradient of F=\")\n",
        "display(G)"
      ],
      "metadata": {
        "colab": {
          "base_uri": "https://localhost:8080/",
          "height": 112
        },
        "id": "NBM-TJcFXned",
        "outputId": "9e633e6b-bab3-4971-e88b-047b4e3eee2e"
      },
      "execution_count": null,
      "outputs": [
        {
          "output_type": "stream",
          "name": "stdout",
          "text": [
            "Given scalar function f=\n"
          ]
        },
        {
          "output_type": "display_data",
          "data": {
            "text/plain": [
              "x**2*y*z"
            ],
            "text/latex": "$\\displaystyle x^{2} y z$"
          },
          "metadata": {}
        },
        {
          "output_type": "stream",
          "name": "stdout",
          "text": [
            "\n",
            " Gradient of F=\n"
          ]
        },
        {
          "output_type": "display_data",
          "data": {
            "text/plain": [
              "2*x*y*z*v.x + x**2*z*v.y + x**2*y*v.z"
            ],
            "text/latex": "$\\displaystyle 2 x y z\\mathbf{\\hat{v}_x} + x^{2} z\\mathbf{\\hat{v}_y} + x^{2} y\\mathbf{\\hat{v}_z}$"
          },
          "metadata": {}
        }
      ]
    },
    {
      "cell_type": "code",
      "source": [
        "from sympy.physics.vector import *\n",
        "from sympy import var,pprint\n",
        "var = ('x y z')\n",
        "v = ReferenceFrame('v')\n",
        "F = v[0]**2*v[1]*v.x+v[1]*v[2]**2*v.y+v[0]**2*v[2]*v.z\n",
        "G = divergence(F,v)\n",
        "F = F.subs([(v[0],x),(v[1],y),(v[2],z)])\n",
        "print(\"Given vector point funciton is\")\n",
        "display(F)\n",
        "G = G.subs([(v[0],x),(v[1],y),(v[2],z)])\n",
        "print(\"\\n Divergence of F=\")\n",
        "display(G)"
      ],
      "metadata": {
        "colab": {
          "base_uri": "https://localhost:8080/",
          "height": 112
        },
        "id": "6DIJ6mjRZR99",
        "outputId": "a5e66c7e-d40c-4c3e-a171-7ed7bd4e7667"
      },
      "execution_count": null,
      "outputs": [
        {
          "output_type": "stream",
          "name": "stdout",
          "text": [
            "Given vector point funciton is\n"
          ]
        },
        {
          "output_type": "display_data",
          "data": {
            "text/plain": [
              "x**2*y*v.x + y*z**2*v.y + x**2*z*v.z"
            ],
            "text/latex": "$\\displaystyle x^{2} y\\mathbf{\\hat{v}_x} + y z^{2}\\mathbf{\\hat{v}_y} + x^{2} z\\mathbf{\\hat{v}_z}$"
          },
          "metadata": {}
        },
        {
          "output_type": "stream",
          "name": "stdout",
          "text": [
            "\n",
            " Divergence of F=\n"
          ]
        },
        {
          "output_type": "display_data",
          "data": {
            "text/plain": [
              "x**2 + 2*x*y + z**2"
            ],
            "text/latex": "$\\displaystyle x^{2} + 2 x y + z^{2}$"
          },
          "metadata": {}
        }
      ]
    },
    {
      "cell_type": "code",
      "source": [
        "from sympy.physics.vector import ReferenceFrame, curl\n",
        "from sympy import symbols, pprint\n",
        "\n",
        "x, y, z = symbols('x y z')\n",
        "\n",
        "v = ReferenceFrame('v')\n",
        "\n",
        "F = v[0]*v[1]**2*v.x+2*v[0]**2*v[1]*v[2]*v.y-3*v[1]*v[2]**2*v.z\n",
        "\n",
        "G = curl(F, v)\n",
        "\n",
        "print(\"Given vector function is:\")\n",
        "pprint(F)\n",
        "\n",
        "print(\"\\nThe curl of F is:\")\n",
        "pprint(G)\n"
      ],
      "metadata": {
        "id": "GoYjCqJ2cH5e",
        "colab": {
          "base_uri": "https://localhost:8080/"
        },
        "outputId": "604c028d-cbc7-4e59-f050-4004af3d6991"
      },
      "execution_count": null,
      "outputs": [
        {
          "output_type": "stream",
          "name": "stdout",
          "text": [
            "Given vector function is:\n",
            "      2           2                         2\n",
            "vₓ⋅v_y  v_x + 2⋅vₓ ⋅v_y⋅v_z v_y + -3⋅v_y⋅v_z  v_z\n",
            "\n",
            "The curl of F is:\n",
            "⎛      2            2⎞\n",
            "⎝- 2⋅vₓ ⋅v_y - 3⋅v_z ⎠ v_x + (4⋅vₓ⋅v_y⋅v_z - 2⋅vₓ⋅v_y) v_z\n"
          ]
        }
      ]
    }
  ]
}